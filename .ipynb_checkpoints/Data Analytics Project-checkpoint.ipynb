{
 "cells": [
  {
   "cell_type": "markdown",
   "metadata": {},
   "source": [
    "<img src=\"Logo.png\" width=\"100\" align=\"left\"/> \n",
    "\n",
    "# <center>Data Analytics project:</center>\n",
    "\n",
    "\n",
    "\n",
    "Congratulations on finishing the lessons content for this second unit !\n",
    "\n",
    "We have seen a lot of concepts in the second unit and we had the chance to test some of them. Now, we get to see how these different concepts are used to better understand our data."
   ]
  },
  {
   "cell_type": "markdown",
   "metadata": {},
   "source": [
    "## Some guidelines: \n",
    "1. To run a cell you can use the shortcut use : Shift + Enter\n",
    "\n",
    "2. Only sections mentioned as To-Do are the places where you should put in your own code other than that we do not recommend that you change the provided code.\n",
    "\n",
    "3. You will be graded for the visibility of your code so make sure you respect the correct indentation and that your code contains suitable variables names.\n",
    "\n",
    "4. This notebook is designed in a sequential way so if you solve your project on different days make sure to run the previous cells before you can run the one you want.\n",
    "\n",
    "5. Teacher assistants in the slack space remain available to answer any questions you might have.\n",
    "\n",
    ">Best of luck ! "
   ]
  },
  {
   "cell_type": "markdown",
   "metadata": {},
   "source": [
    "## Project Sections:\n",
    "In this project you will practice some of the concepts seen in the data analytics unit, you will deal with a real dataset. This dataset contains house sale prices for King County. It includes homes sold between May 2014 and May 2015.\n",
    "\n",
    "Our goal is to analyze this dataset, clean it then create a simple linear regression model using it.\n",
    "\n",
    "This project is devided into n sections : \n",
    "1. [Setting the environement](#set_env)\n",
    "\n",
    "2. [Importing necessary tools](#importing)\n",
    "\n",
    "3. [Dataset discovery](#dataset_discovery)\n",
    "\n",
    "4. [NA handling](#na_handling)\n",
    "\n",
    "5. [Useless variables deletion](#useless_var)\n",
    "\n",
    "6. [Outliers detection](#outliers)\n",
    "\n",
    "7. [Feature selection](#feature_selection)\n",
    "\n",
    "8. [Linear regression](#linear_reg)"
   ]
  },
  {
   "cell_type": "markdown",
   "metadata": {},
   "source": [
    "### 1. Setting the environement:  <a id='set_env'></a>"
   ]
  },
  {
   "cell_type": "code",
   "execution_count": 1,
   "metadata": {},
   "outputs": [
    {
     "name": "stdout",
     "output_type": "stream",
     "text": [
      "Requirement already satisfied: virtualenv in c:\\users\\mariem\\appdata\\roaming\\python\\python39\\site-packages (20.13.3)\n",
      "Requirement already satisfied: platformdirs<3,>=2 in c:\\users\\mariem\\appdata\\roaming\\python\\python39\\site-packages (from virtualenv) (2.5.1)\n",
      "Requirement already satisfied: filelock<4,>=3.2 in c:\\users\\mariem\\anaconda3\\lib\\site-packages (from virtualenv) (3.3.1)\n",
      "Requirement already satisfied: distlib<1,>=0.3.1 in c:\\users\\mariem\\appdata\\roaming\\python\\python39\\site-packages (from virtualenv) (0.3.4)\n",
      "Requirement already satisfied: six<2,>=1.9.0 in c:\\users\\mariem\\anaconda3\\lib\\site-packages (from virtualenv) (1.16.0)\n"
     ]
    }
   ],
   "source": [
    "# Make sure you have virtualenv installed \n",
    "!pip install --user virtualenv"
   ]
  },
  {
   "cell_type": "code",
   "execution_count": 2,
   "metadata": {},
   "outputs": [],
   "source": [
    "# To-Do: create a virtual environement called data_analytics\n",
    "!python -m venv data_analytics"
   ]
  },
  {
   "cell_type": "code",
   "execution_count": 3,
   "metadata": {},
   "outputs": [],
   "source": [
    "# Activate the environement for windows\n",
    "!data_analytics\\Scripts\\activate"
   ]
  },
  {
   "cell_type": "code",
   "execution_count": 4,
   "metadata": {},
   "outputs": [
    {
     "name": "stderr",
     "output_type": "stream",
     "text": [
      "'.' is not recognized as an internal or external command,\n",
      "operable program or batch file.\n"
     ]
    }
   ],
   "source": [
    "# Activate the environement for linux (debian based)\n",
    "!. data_analytics/bin/activate"
   ]
  },
  {
   "cell_type": "markdown",
   "metadata": {},
   "source": [
    "### 2. Importing necessary tools:<a id='importing'></a>"
   ]
  },
  {
   "cell_type": "code",
   "execution_count": 5,
   "metadata": {},
   "outputs": [],
   "source": [
    "import pandas as pd\n",
    "import matplotlib.pyplot as plt\n",
    "import seaborn as sns"
   ]
  },
  {
   "cell_type": "markdown",
   "metadata": {},
   "source": [
    "### 3. Dataset discovery:<a id='dataset_discovery'></a>"
   ]
  },
  {
   "cell_type": "code",
   "execution_count": 6,
   "metadata": {},
   "outputs": [
    {
     "data": {
      "text/plain": [
       "(21613, 21)"
      ]
     },
     "execution_count": 6,
     "metadata": {},
     "output_type": "execute_result"
    }
   ],
   "source": [
    "# To-Do: Read the file (\"kc_house_data.csv\") using pandas and store in a dataframe called df\n",
    "df = pd.read_csv(\"kc_house_data.csv\")\n",
    "\n",
    "# To-Do: Print the dataframe's shape\n",
    "df.shape"
   ]
  },
  {
   "cell_type": "code",
   "execution_count": 7,
   "metadata": {},
   "outputs": [
    {
     "name": "stdout",
     "output_type": "stream",
     "text": [
      "<class 'pandas.core.frame.DataFrame'>\n",
      "RangeIndex: 21613 entries, 0 to 21612\n",
      "Data columns (total 21 columns):\n",
      " #   Column         Non-Null Count  Dtype  \n",
      "---  ------         --------------  -----  \n",
      " 0   id             21613 non-null  int64  \n",
      " 1   date           21606 non-null  object \n",
      " 2   price          21608 non-null  float64\n",
      " 3   bedrooms       21613 non-null  int64  \n",
      " 4   bathrooms      21613 non-null  float64\n",
      " 5   sqft_living    21612 non-null  float64\n",
      " 6   sqft_lot       21612 non-null  float64\n",
      " 7   floors         21613 non-null  float64\n",
      " 8   waterfront     21613 non-null  int64  \n",
      " 9   view           21613 non-null  int64  \n",
      " 10  condition      21613 non-null  int64  \n",
      " 11  grade          21613 non-null  int64  \n",
      " 12  sqft_above     21609 non-null  float64\n",
      " 13  sqft_basement  21613 non-null  int64  \n",
      " 14  yr_built       21611 non-null  float64\n",
      " 15  yr_renovated   21612 non-null  float64\n",
      " 16  zipcode        21611 non-null  float64\n",
      " 17  lat            21612 non-null  float64\n",
      " 18  long           21613 non-null  float64\n",
      " 19  sqft_living15  21612 non-null  float64\n",
      " 20  sqft_lot15     21613 non-null  int64  \n",
      "dtypes: float64(12), int64(8), object(1)\n",
      "memory usage: 3.5+ MB\n"
     ]
    }
   ],
   "source": [
    "# To-Do: Print the dataframe's info\n",
    "df.info()"
   ]
  },
  {
   "cell_type": "markdown",
   "metadata": {},
   "source": [
    "### 4. NA handling:<a id='na_handling'></a>\n",
    "It is clear after printing the dataset info that there are some variables that have less entries than the number of rows which means that some of them don't have values in certain rows.\n",
    "\n",
    "Given the number of the na values, what do you think is the best method to deal with them?"
   ]
  },
  {
   "cell_type": "code",
   "execution_count": 8,
   "metadata": {},
   "outputs": [],
   "source": [
    "# To-Do: deal with the NAs in your dataset in one line\n",
    "df.dropna(inplace=True)"
   ]
  },
  {
   "cell_type": "markdown",
   "metadata": {},
   "source": [
    "### 5. Useless variables deletion:<a id='useless_var'></a>\n",
    "We want to eventually do a regression on it so naturally some variables bring no added value and can be delted without impacting the results.\n",
    "\n",
    "Delete the column that correspond to variables that aren't needed."
   ]
  },
  {
   "cell_type": "code",
   "execution_count": 9,
   "metadata": {
    "scrolled": true
   },
   "outputs": [],
   "source": [
    "# To-Do: delete the values of the variables that are useless\n",
    "df.drop(['grade', 'yr_built', 'yr_renovated', 'zipcode', 'lat', 'long', 'sqft_living15', 'sqft_lot15'], axis=1, inplace=True)"
   ]
  },
  {
   "cell_type": "code",
   "execution_count": 10,
   "metadata": {},
   "outputs": [
    {
     "name": "stdout",
     "output_type": "stream",
     "text": [
      "<class 'pandas.core.frame.DataFrame'>\n",
      "Int64Index: 21588 entries, 0 to 21612\n",
      "Data columns (total 13 columns):\n",
      " #   Column         Non-Null Count  Dtype  \n",
      "---  ------         --------------  -----  \n",
      " 0   id             21588 non-null  int64  \n",
      " 1   date           21588 non-null  object \n",
      " 2   price          21588 non-null  float64\n",
      " 3   bedrooms       21588 non-null  int64  \n",
      " 4   bathrooms      21588 non-null  float64\n",
      " 5   sqft_living    21588 non-null  float64\n",
      " 6   sqft_lot       21588 non-null  float64\n",
      " 7   floors         21588 non-null  float64\n",
      " 8   waterfront     21588 non-null  int64  \n",
      " 9   view           21588 non-null  int64  \n",
      " 10  condition      21588 non-null  int64  \n",
      " 11  sqft_above     21588 non-null  float64\n",
      " 12  sqft_basement  21588 non-null  int64  \n",
      "dtypes: float64(6), int64(6), object(1)\n",
      "memory usage: 2.3+ MB\n"
     ]
    }
   ],
   "source": [
    "df.info()"
   ]
  },
  {
   "cell_type": "markdown",
   "metadata": {},
   "source": [
    "### A wild playground appears !!\n",
    "In the next cell, go wild with the dataset discovery.\n",
    "You can calculate the mean, the median or do anything you want to learn more the data.\n",
    "\n",
    "<b>Pro tip :</b> \n",
    "Sometimes you might want to know how many unique variables a column has, to do so you can use the padas function :\n",
    "\n",
    "<center>pd.unique(df['column_name'])</center>"
   ]
  },
  {
   "cell_type": "code",
   "execution_count": 11,
   "metadata": {},
   "outputs": [
    {
     "name": "stdout",
     "output_type": "stream",
     "text": [
      "Total number of entries : 21588\n",
      "\n",
      "Unique values\n",
      "date : 372\n",
      "price : 4025\n",
      "bedrooms : 13\n",
      "bathrooms : 30\n",
      "sqft_living : 1036\n",
      "sqft_lot : 9773\n",
      "floors : 6\n",
      "waterfront : 2\n",
      "view : 5\n",
      "condition : 5\n",
      "sqft_above : 943\n",
      "sqft_basement : 306\n"
     ]
    }
   ],
   "source": [
    "# To-Do : get to know more your data WITHOUT modifying it !!\n",
    "\n",
    "#Checking for unique values\n",
    "print('Total number of entries : '+str(len(df))+'\\n')\n",
    "print('Unique values')\n",
    "for col in df.drop(['id'], axis=1).columns:\n",
    "    print(col+' : '+str(len(pd.unique(df[col]))))"
   ]
  },
  {
   "cell_type": "code",
   "execution_count": 12,
   "metadata": {},
   "outputs": [
    {
     "name": "stdout",
     "output_type": "stream",
     "text": [
      "Column price\n",
      "mean = 540154.4824902724\n",
      "median = 450000.0\n",
      "\n",
      "Column bedrooms\n",
      "mean = 3.3705762460626274\n",
      "median = 3.0\n",
      "\n",
      "Column bathrooms\n",
      "mean = 2.1146701871410043\n",
      "median = 2.25\n",
      "\n",
      "Column sqft_living\n",
      "mean = 2079.9165277005745\n",
      "median = 1910.0\n",
      "\n",
      "Column sqft_lot\n",
      "mean = 15113.699462664443\n",
      "median = 7620.0\n",
      "\n",
      "Column floors\n",
      "mean = 1.4941865851398926\n",
      "median = 1.5\n",
      "\n",
      "Column waterfront\n",
      "mean = 0.007550491013526033\n",
      "median = 0.0\n",
      "\n",
      "Column view\n",
      "mean = 0.23429683157309616\n",
      "median = 0.0\n",
      "\n",
      "Column condition\n",
      "mean = 3.4096257179914766\n",
      "median = 3.0\n",
      "\n",
      "Column sqft_above\n",
      "mean = 1788.3853529738744\n",
      "median = 1560.0\n",
      "\n",
      "Column sqft_basement\n",
      "mean = 291.53117472670004\n",
      "median = 0.0\n",
      "\n"
     ]
    }
   ],
   "source": [
    "#Selecting numeric columns\n",
    "num_types = ['int64', 'float64']\n",
    "df = df.select_dtypes(include=num_types)\n",
    "\n",
    "#Computing the mean and median for each numeric variable\n",
    "for col in df.drop('id', axis=1).columns:\n",
    "    print('Column '+col)\n",
    "    print('mean = '+str(df[col].mean()))\n",
    "    print('median = '+str(df[col].median()))\n",
    "    print('')"
   ]
  },
  {
   "cell_type": "markdown",
   "metadata": {},
   "source": [
    "### 6.Outliers detection:<a id='outliers'></a>\n",
    "Having outliers is a common problem that might affect the quality of the model that we're building.\n",
    "\n",
    "Let's assume that we're not interested in very expensive or very cheap houses, we want a model that best fits the average priced houses.\n",
    "\n",
    "To create such a model, we detect outliers and delete them using the Z-score method seen in the lessons."
   ]
  },
  {
   "cell_type": "code",
   "execution_count": 13,
   "metadata": {},
   "outputs": [],
   "source": [
    "# To-Do : detect the outliers then delete them ad delete the column created to calculate the Z-score\n",
    "old_len = len(df)\n",
    "\n",
    "thresh = 3\n",
    "\n",
    "df['price_zscore'] = (df['price'] - df['price'].mean()) / df['price'].std()    \n",
    "df = df[df['price_zscore'] > 3]\n",
    "df.drop('price_zscore', axis=1, inplace=True)"
   ]
  },
  {
   "cell_type": "code",
   "execution_count": 14,
   "metadata": {},
   "outputs": [
    {
     "data": {
      "text/plain": [
       "98.12395775430794"
      ]
     },
     "execution_count": 14,
     "metadata": {},
     "output_type": "execute_result"
    }
   ],
   "source": [
    "#Let's compute the percentage of outliers that we had in our dataset\n",
    "(old_len - len(df))/old_len * 100"
   ]
  },
  {
   "cell_type": "markdown",
   "metadata": {},
   "source": [
    "Wow, only less than 2% of our dataset remains"
   ]
  },
  {
   "cell_type": "code",
   "execution_count": 15,
   "metadata": {},
   "outputs": [
    {
     "name": "stdout",
     "output_type": "stream",
     "text": [
      "<class 'pandas.core.frame.DataFrame'>\n",
      "Int64Index: 405 entries, 21 to 21576\n",
      "Data columns (total 12 columns):\n",
      " #   Column         Non-Null Count  Dtype  \n",
      "---  ------         --------------  -----  \n",
      " 0   id             405 non-null    int64  \n",
      " 1   price          405 non-null    float64\n",
      " 2   bedrooms       405 non-null    int64  \n",
      " 3   bathrooms      405 non-null    float64\n",
      " 4   sqft_living    405 non-null    float64\n",
      " 5   sqft_lot       405 non-null    float64\n",
      " 6   floors         405 non-null    float64\n",
      " 7   waterfront     405 non-null    int64  \n",
      " 8   view           405 non-null    int64  \n",
      " 9   condition      405 non-null    int64  \n",
      " 10  sqft_above     405 non-null    float64\n",
      " 11  sqft_basement  405 non-null    int64  \n",
      "dtypes: float64(6), int64(6)\n",
      "memory usage: 41.1 KB\n"
     ]
    }
   ],
   "source": [
    "df.info()"
   ]
  },
  {
   "cell_type": "markdown",
   "metadata": {},
   "source": [
    "### 7.Feature selection:<a id='feature_selection'></a>\n",
    "It is clear that even after deleting some features, there might be other features that aren't obviously useless but can be delted and keep a good overall performance.\n",
    "\n",
    "To verify this, we perform feature selection on our variables."
   ]
  },
  {
   "cell_type": "code",
   "execution_count": 16,
   "metadata": {},
   "outputs": [
    {
     "data": {
      "text/plain": [
       "<AxesSubplot:>"
      ]
     },
     "execution_count": 16,
     "metadata": {},
     "output_type": "execute_result"
    },
    {
     "data": {
      "image/png": "[encoded data removed]",
      "text/plain": [
       "<Figure size 432x288 with 2 Axes>"
      ]
     },
     "metadata": {
      "needs_background": "light"
     },
     "output_type": "display_data"
    }
   ],
   "source": [
    "# To-Do : perform feature selection using correlation\n",
    "import seaborn as sb\n",
    "sb.heatmap(abs(df.corr()))"
   ]
  },
  {
   "cell_type": "code",
   "execution_count": 17,
   "metadata": {},
   "outputs": [],
   "source": [
    "# To-Do : drop the variables that seem highly correlated to you\n",
    "corr_thresh = 0.6\n",
    "\n",
    "cols = df.drop(['id', 'price'], axis=1).columns\n",
    "for col in cols:\n",
    "    if abs(df.corr()['price'].loc[col]) > corr_thresh:\n",
    "        df.drop(col, axis=1, inplace=True)"
   ]
  },
  {
   "cell_type": "code",
   "execution_count": 18,
   "metadata": {},
   "outputs": [
    {
     "name": "stdout",
     "output_type": "stream",
     "text": [
      "<class 'pandas.core.frame.DataFrame'>\n",
      "Int64Index: 405 entries, 21 to 21576\n",
      "Data columns (total 12 columns):\n",
      " #   Column         Non-Null Count  Dtype  \n",
      "---  ------         --------------  -----  \n",
      " 0   id             405 non-null    int64  \n",
      " 1   price          405 non-null    float64\n",
      " 2   bedrooms       405 non-null    int64  \n",
      " 3   bathrooms      405 non-null    float64\n",
      " 4   sqft_living    405 non-null    float64\n",
      " 5   sqft_lot       405 non-null    float64\n",
      " 6   floors         405 non-null    float64\n",
      " 7   waterfront     405 non-null    int64  \n",
      " 8   view           405 non-null    int64  \n",
      " 9   condition      405 non-null    int64  \n",
      " 10  sqft_above     405 non-null    float64\n",
      " 11  sqft_basement  405 non-null    int64  \n",
      "dtypes: float64(6), int64(6)\n",
      "memory usage: 41.1 KB\n"
     ]
    }
   ],
   "source": [
    "df.info()"
   ]
  },
  {
   "cell_type": "markdown",
   "metadata": {},
   "source": [
    "### 8.Linear regression:<a id='linear_reg'></a>\n",
    "Now that our data is clean and ready to be used, let's try to fit it into a linear regression model.\n",
    "\n",
    "<ul>\n",
    "    <li>We begin by splitting our variables into dependant and independant variables.</li>\n",
    "    <li>We create the model using the LinearRegression class.</li>\n",
    "    <li>We evaluate our model using the R² score</li>\n",
    "</ul>"
   ]
  },
  {
   "cell_type": "code",
   "execution_count": 19,
   "metadata": {},
   "outputs": [],
   "source": [
    "# Splitting the data into dependant and independant variables\n",
    "Y = df['price']\n",
    "X = df.drop(['price'],axis = 1)"
   ]
  },
  {
   "cell_type": "code",
   "execution_count": 20,
   "metadata": {},
   "outputs": [],
   "source": [
    "from sklearn.linear_model import LinearRegression\n",
    "# To-Do : Create a linear regression model using the LinearRegression class then fit it to the data\n",
    "model = LinearRegression()\n",
    "result = model.fit(X,Y)"
   ]
  },
  {
   "cell_type": "code",
   "execution_count": 21,
   "metadata": {},
   "outputs": [
    {
     "data": {
      "text/plain": [
       "0.4726023831484778"
      ]
     },
     "execution_count": 21,
     "metadata": {},
     "output_type": "execute_result"
    }
   ],
   "source": [
    "# The function used to calculate the R² score is the method \"score\" found in the LinearRegression class\n",
    "result.score(X,Y)"
   ]
  },
  {
   "cell_type": "markdown",
   "metadata": {},
   "source": [
    "## Conclusion:\n",
    "Data preparation is a very important step in the machine learning pipeline. It is crucial to clean our data and understand it very well before we can create any model on the data.\n",
    "\n",
    "In this notebook, we have spent 4 steps preparing our data but only 1 to create the model. This reflects how time consuming the process of data preparation is compared to the other steps as well as the importance of the quality of the data used.\n",
    "\n",
    "In the next unit, we will see more about the models creation process and see a lot of important concepts in depth."
   ]
  }
 ],
 "metadata": {
  "kernelspec": {
   "display_name": "Python 3 (ipykernel)",
   "language": "python",
   "name": "python3"
  },
  "language_info": {
   "codemirror_mode": {
    "name": "ipython",
    "version": 3
   },
   "file_extension": ".py",
   "mimetype": "text/x-python",
   "name": "python",
   "nbconvert_exporter": "python",
   "pygments_lexer": "ipython3",
   "version": "3.9.7"
  }
 },
 "nbformat": 4,
 "nbformat_minor": 2
}
